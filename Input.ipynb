{
  "cells": [
    {
      "cell_type": "markdown",
      "metadata": {
        "id": "view-in-github",
        "colab_type": "text"
      },
      "source": [
        "<a href=\"https://colab.research.google.com/github/Nafi-10/pythonBeginners/blob/main/Input.ipynb\" target=\"_parent\"><img src=\"https://colab.research.google.com/assets/colab-badge.svg\" alt=\"Open In Colab\"/></a>"
      ]
    },
    {
      "cell_type": "markdown",
      "source": [
        "Input Function\n"
      ],
      "metadata": {
        "id": "ZchbTv3p7CBm"
      }
    },
    {
      "cell_type": "code",
      "source": [
        "number1=input('Enter your first number: ')\n",
        "number2=input('Enter your second number: ')\n",
        "result=int(number1)+int(number2)\n",
        "print(result)"
      ],
      "metadata": {
        "id": "r1m-PyU07G-m",
        "outputId": "a3752509-b498-4913-ad90-79356cf8159b",
        "colab": {
          "base_uri": "https://localhost:8080/"
        }
      },
      "execution_count": 1,
      "outputs": [
        {
          "output_type": "stream",
          "name": "stdout",
          "text": [
            "Enter your first number: 10\n",
            "Enter your second number: 40\n",
            "50\n"
          ]
        }
      ]
    }
  ],
  "metadata": {
    "colab": {
      "toc_visible": true,
      "provenance": [],
      "include_colab_link": true
    },
    "kernelspec": {
      "display_name": "Python 3",
      "name": "python3"
    }
  },
  "nbformat": 4,
  "nbformat_minor": 0
}