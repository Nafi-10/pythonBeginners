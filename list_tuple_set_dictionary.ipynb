{
  "cells": [
    {
      "cell_type": "markdown",
      "metadata": {
        "id": "view-in-github",
        "colab_type": "text"
      },
      "source": [
        "<a href=\"https://colab.research.google.com/github/Nafi-10/pythonBeginners/blob/main/list_tuple_set_dictionary.ipynb\" target=\"_parent\"><img src=\"https://colab.research.google.com/assets/colab-badge.svg\" alt=\"Open In Colab\"/></a>"
      ]
    },
    {
      "cell_type": "markdown",
      "source": [
        "Types of object in python:\n",
        "1. Immutable Object\n",
        "2. Mutable Object\n",
        "\n",
        "*Immutable Object:*\n",
        "\n",
        "Immutable objects cannot be changed after creation. Any operation that tries to modify them will create a new object instead.\n",
        "\n",
        "1.int\n",
        "2.float\n",
        "3.string\n",
        "4.bool\n",
        "5.tuple\n",
        "\n",
        "*Mutable Object:*\n",
        "\n",
        "Mutable objects can be changed after they are created. This means you can modify their content (e.g., add, remove, or update elements) without changing their identity.\n",
        "\n",
        "1.List\n",
        "2.Set\n",
        "3.Dictionary\n",
        "\n",
        "\n",
        "\n",
        "\n"
      ],
      "metadata": {
        "id": "imBomcx0SfO9"
      }
    },
    {
      "cell_type": "code",
      "source": [
        "#List (List should be included in square brackets)\n",
        "list1 = [1,2,3,4,5]\n",
        "print(list1)\n",
        "type (list1)\n"
      ],
      "metadata": {
        "colab": {
          "base_uri": "https://localhost:8080/"
        },
        "id": "KhSlMPHkDXux",
        "outputId": "bce704e3-c4db-4169-ad2c-d333c99332d3"
      },
      "execution_count": 2,
      "outputs": [
        {
          "output_type": "stream",
          "name": "stdout",
          "text": [
            "[1, 2, 3, 4, 5]\n"
          ]
        },
        {
          "output_type": "execute_result",
          "data": {
            "text/plain": [
              "list"
            ]
          },
          "metadata": {},
          "execution_count": 2
        }
      ]
    },
    {
      "cell_type": "code",
      "source": [
        "#list can have multiple data types\n",
        "list2=[1,2,3,\"hello\",True,3.25]\n",
        "print(list2)\n",
        "type(list2)"
      ],
      "metadata": {
        "colab": {
          "base_uri": "https://localhost:8080/"
        },
        "id": "solkLSm1ER6j",
        "outputId": "19296b49-98d5-4561-91cb-7addef387d73"
      },
      "execution_count": 3,
      "outputs": [
        {
          "output_type": "stream",
          "name": "stdout",
          "text": [
            "[1, 2, 3, 'hello', True, 3.25]\n"
          ]
        },
        {
          "output_type": "execute_result",
          "data": {
            "text/plain": [
              "list"
            ]
          },
          "metadata": {},
          "execution_count": 3
        }
      ]
    },
    {
      "cell_type": "code",
      "source": [
        "#adding elements to the list\n",
        "list2=[1,2,3,\"hello\",True,3.25]\n",
        "list2.append('Python')\n",
        "print(list2)\n",
        "\n",
        "#print elements of a list using their index\n",
        "print(list2[0])\n",
        "print(list2[3])\n",
        "print(list2[5])\n",
        "\n",
        "#lists allow duplicate values\n",
        "list3=[1,2,3,\"hello\",True,3.25,3.25]\n",
        "print(list3)\n",
        "print(len(list3))\n",
        "\n",
        "#initiating a empty list\n",
        "list4=[]\n",
        "print(list4)\n",
        "type(list4)\n"
      ],
      "metadata": {
        "colab": {
          "base_uri": "https://localhost:8080/"
        },
        "id": "6_a7UiPnFNVP",
        "outputId": "019c723b-5a3f-4965-fa9c-1b1ed497b187"
      },
      "execution_count": 9,
      "outputs": [
        {
          "output_type": "stream",
          "name": "stdout",
          "text": [
            "[1, 2, 3, 'hello', True, 3.25, 'Python']\n",
            "1\n",
            "hello\n",
            "3.25\n",
            "[1, 2, 3, 'hello', True, 3.25, 3.25]\n",
            "7\n",
            "[]\n"
          ]
        },
        {
          "output_type": "execute_result",
          "data": {
            "text/plain": [
              "list"
            ]
          },
          "metadata": {},
          "execution_count": 9
        }
      ]
    },
    {
      "cell_type": "code",
      "source": [
        "#delete items from list\n",
        "list5=[1,2,3,\"hello\",True,3.25,3.25]\n",
        "print(list5)\n",
        "\n",
        "del list5[6]\n",
        "print(list5)\n"
      ],
      "metadata": {
        "colab": {
          "base_uri": "https://localhost:8080/"
        },
        "id": "NYhdRRryJlEh",
        "outputId": "d71c5fc9-53ce-478a-ab14-72711c352d09"
      },
      "execution_count": 11,
      "outputs": [
        {
          "output_type": "stream",
          "name": "stdout",
          "text": [
            "[1, 2, 3, 'hello', True, 3.25, 3.25]\n",
            "[1, 2, 3, 'hello', True, 3.25]\n"
          ]
        }
      ]
    },
    {
      "cell_type": "code",
      "source": [
        "#join two list\n",
        "list6=[1,2,3,4]\n",
        "list7=['Chatro dol er putki mar']\n",
        "list8=list6+list7\n",
        "print(list8)"
      ],
      "metadata": {
        "colab": {
          "base_uri": "https://localhost:8080/"
        },
        "id": "sJlWml7NH_Ve",
        "outputId": "acef7c2f-4ab4-4969-d676-296dc269d34d"
      },
      "execution_count": 13,
      "outputs": [
        {
          "output_type": "stream",
          "name": "stdout",
          "text": [
            "[1, 2, 3, 4, 'Chatro dol er putki mar']\n"
          ]
        }
      ]
    },
    {
      "cell_type": "markdown",
      "source": [
        "A tuple is an immutable(unchangeable) and ordered collection of elements in Python. Once created, its elements cannot be changed, added, or removed. Tuples are defined using parentheses ()."
      ],
      "metadata": {
        "id": "J0fAy1smNpgU"
      }
    },
    {
      "cell_type": "code",
      "source": [
        "tuple1=(2,3,4,5,6)\n",
        "print(tuple1)\n",
        "type(tuple1)"
      ],
      "metadata": {
        "colab": {
          "base_uri": "https://localhost:8080/"
        },
        "id": "Qzcnd-I6NrHX",
        "outputId": "57a25553-28fe-4e95-a3e6-bd25b3933c03"
      },
      "execution_count": 14,
      "outputs": [
        {
          "output_type": "stream",
          "name": "stdout",
          "text": [
            "(2, 3, 4, 5, 6)\n"
          ]
        },
        {
          "output_type": "execute_result",
          "data": {
            "text/plain": [
              "tuple"
            ]
          },
          "metadata": {},
          "execution_count": 14
        }
      ]
    },
    {
      "cell_type": "code",
      "source": [
        "#tuples allows multiple data types\n",
        "tuple2=(1,2,3,\"hello\",True,3.25,\"Machine Learning\")\n",
        "print(tuple2)\n",
        "type(tuple2)"
      ],
      "metadata": {
        "colab": {
          "base_uri": "https://localhost:8080/"
        },
        "id": "4EJsof7DURpm",
        "outputId": "7c47541a-03e3-45fb-848b-bf31b887aede"
      },
      "execution_count": 15,
      "outputs": [
        {
          "output_type": "stream",
          "name": "stdout",
          "text": [
            "(1, 2, 3, 'hello', True, 3.25, 'Machine Learning')\n"
          ]
        },
        {
          "output_type": "execute_result",
          "data": {
            "text/plain": [
              "tuple"
            ]
          },
          "metadata": {},
          "execution_count": 15
        }
      ]
    },
    {
      "cell_type": "code",
      "source": [
        "#converting list into tuple\n",
        "\n",
        "list1=[1,2,3,4,5]\n",
        "print(list1)\n",
        "type(list1)\n",
        "\n",
        "tuple3=tuple(list1)\n",
        "print(tuple3)\n",
        "type(tuple3)\n",
        "\n",
        "tuple3.append(6)\n",
        "print(tuple3) # this will give error message : 'tuple' object has no attribute 'append'"
      ],
      "metadata": {
        "colab": {
          "base_uri": "https://localhost:8080/",
          "height": 228
        },
        "id": "SFpq6Gv_U4aU",
        "outputId": "706f4a91-ea8f-4550-88f3-48ace49905dd"
      },
      "execution_count": 17,
      "outputs": [
        {
          "output_type": "stream",
          "name": "stdout",
          "text": [
            "[1, 2, 3, 4, 5]\n",
            "(1, 2, 3, 4, 5)\n"
          ]
        },
        {
          "output_type": "error",
          "ename": "AttributeError",
          "evalue": "'tuple' object has no attribute 'append'",
          "traceback": [
            "\u001b[0;31m---------------------------------------------------------------------------\u001b[0m",
            "\u001b[0;31mAttributeError\u001b[0m                            Traceback (most recent call last)",
            "\u001b[0;32m/tmp/ipython-input-17-2748537606.py\u001b[0m in \u001b[0;36m<cell line: 0>\u001b[0;34m()\u001b[0m\n\u001b[1;32m      9\u001b[0m \u001b[0mtype\u001b[0m\u001b[0;34m(\u001b[0m\u001b[0mtuple3\u001b[0m\u001b[0;34m)\u001b[0m\u001b[0;34m\u001b[0m\u001b[0;34m\u001b[0m\u001b[0m\n\u001b[1;32m     10\u001b[0m \u001b[0;34m\u001b[0m\u001b[0m\n\u001b[0;32m---> 11\u001b[0;31m \u001b[0mtuple3\u001b[0m\u001b[0;34m.\u001b[0m\u001b[0mappend\u001b[0m\u001b[0;34m(\u001b[0m\u001b[0;36m6\u001b[0m\u001b[0;34m)\u001b[0m\u001b[0;34m\u001b[0m\u001b[0;34m\u001b[0m\u001b[0m\n\u001b[0m\u001b[1;32m     12\u001b[0m \u001b[0mprint\u001b[0m\u001b[0;34m(\u001b[0m\u001b[0mtuple3\u001b[0m\u001b[0;34m)\u001b[0m\u001b[0;34m\u001b[0m\u001b[0;34m\u001b[0m\u001b[0m\n",
            "\u001b[0;31mAttributeError\u001b[0m: 'tuple' object has no attribute 'append'"
          ]
        }
      ]
    },
    {
      "cell_type": "code",
      "source": [
        "print(len(tuple3))"
      ],
      "metadata": {
        "colab": {
          "base_uri": "https://localhost:8080/"
        },
        "id": "MWqqCiH0V8sX",
        "outputId": "76edc789-d266-451c-eceb-2b3c9801901b"
      },
      "execution_count": 18,
      "outputs": [
        {
          "output_type": "stream",
          "name": "stdout",
          "text": [
            "5\n"
          ]
        }
      ]
    },
    {
      "cell_type": "code",
      "source": [
        "#set\n",
        "set1={1,2,3,4,5}\n",
        "print(set1)\n",
        "type(set1)"
      ],
      "metadata": {
        "colab": {
          "base_uri": "https://localhost:8080/"
        },
        "id": "bjUzHJihWZKT",
        "outputId": "0625cd25-7fb6-4d02-a8f1-b10c743cd0ae"
      },
      "execution_count": 19,
      "outputs": [
        {
          "output_type": "stream",
          "name": "stdout",
          "text": [
            "{1, 2, 3, 4, 5}\n"
          ]
        },
        {
          "output_type": "execute_result",
          "data": {
            "text/plain": [
              "set"
            ]
          },
          "metadata": {},
          "execution_count": 19
        }
      ]
    },
    {
      "cell_type": "code",
      "source": [
        "print(set1[0]) #N:B:set don't support indexing so it will give error message"
      ],
      "metadata": {
        "colab": {
          "base_uri": "https://localhost:8080/",
          "height": 141
        },
        "id": "P1CCXuHcWsav",
        "outputId": "fd97212e-ff30-499e-c939-1dbe6f99ba7a"
      },
      "execution_count": 20,
      "outputs": [
        {
          "output_type": "error",
          "ename": "TypeError",
          "evalue": "'set' object is not subscriptable",
          "traceback": [
            "\u001b[0;31m---------------------------------------------------------------------------\u001b[0m",
            "\u001b[0;31mTypeError\u001b[0m                                 Traceback (most recent call last)",
            "\u001b[0;32m/tmp/ipython-input-20-3341616979.py\u001b[0m in \u001b[0;36m<cell line: 0>\u001b[0;34m()\u001b[0m\n\u001b[0;32m----> 1\u001b[0;31m \u001b[0mprint\u001b[0m\u001b[0;34m(\u001b[0m\u001b[0mset1\u001b[0m\u001b[0;34m[\u001b[0m\u001b[0;36m0\u001b[0m\u001b[0;34m]\u001b[0m\u001b[0;34m)\u001b[0m\u001b[0;34m\u001b[0m\u001b[0;34m\u001b[0m\u001b[0m\n\u001b[0m",
            "\u001b[0;31mTypeError\u001b[0m: 'set' object is not subscriptable"
          ]
        }
      ]
    },
    {
      "cell_type": "code",
      "source": [
        "#convert list to a set\n",
        "list1=[1,2,3,4,5]\n",
        "print(list1)\n",
        "\n",
        "set2=set(list1)\n",
        "print(set2)\n",
        "type(set2)"
      ],
      "metadata": {
        "colab": {
          "base_uri": "https://localhost:8080/"
        },
        "id": "yCHqjtXwXNG_",
        "outputId": "377a396a-95a0-4cd7-a875-af0d45fababa"
      },
      "execution_count": 22,
      "outputs": [
        {
          "output_type": "stream",
          "name": "stdout",
          "text": [
            "[1, 2, 3, 4, 5]\n",
            "{1, 2, 3, 4, 5}\n"
          ]
        },
        {
          "output_type": "execute_result",
          "data": {
            "text/plain": [
              "set"
            ]
          },
          "metadata": {},
          "execution_count": 22
        }
      ]
    },
    {
      "cell_type": "code",
      "source": [
        "#set doesn't allow duplicate values\n",
        "set3={1,2,3,4,5,5,5,5}\n",
        "print(set3) #N:B: in set it will autometically delete duplicate value"
      ],
      "metadata": {
        "colab": {
          "base_uri": "https://localhost:8080/"
        },
        "id": "ucX3w4DqXtFO",
        "outputId": "9fdcdeda-12eb-4a44-fbae-4849b5537453"
      },
      "execution_count": 24,
      "outputs": [
        {
          "output_type": "stream",
          "name": "stdout",
          "text": [
            "{1, 2, 3, 4, 5}\n"
          ]
        }
      ]
    },
    {
      "cell_type": "markdown",
      "source": [
        "A dictionary is an unordered, mutable collection of key-value pairs. It is used to store data values where each value is associated with a unique key."
      ],
      "metadata": {
        "id": "qosZwixbYOCN"
      }
    },
    {
      "cell_type": "code",
      "source": [
        "my_dict = {\n",
        "    \"name\": \"Jawad\",\n",
        "    \"age\": 25,\n",
        "    \"city\": \"Dhaka\"\n",
        "}\n",
        "print(my_dict)\n",
        "type(my_dict)\n",
        "\n",
        "print(my_dict[\"name\"])\n",
        "print(my_dict[\"age\"])\n",
        "print(my_dict[\"city\"]) #Dictionary does not allow duplicate values"
      ],
      "metadata": {
        "colab": {
          "base_uri": "https://localhost:8080/"
        },
        "id": "vMWQQYNMYa9Z",
        "outputId": "7e78b37d-af63-48b8-c723-5b2f9dfe2d8c"
      },
      "execution_count": 26,
      "outputs": [
        {
          "output_type": "stream",
          "name": "stdout",
          "text": [
            "{'name': 'Jawad', 'age': 25, 'city': 'Dhaka'}\n",
            "Jawad\n",
            "25\n",
            "Dhaka\n"
          ]
        }
      ]
    }
  ],
  "metadata": {
    "colab": {
      "toc_visible": true,
      "provenance": [],
      "include_colab_link": true
    },
    "kernelspec": {
      "display_name": "Python 3",
      "name": "python3"
    }
  },
  "nbformat": 4,
  "nbformat_minor": 0
}