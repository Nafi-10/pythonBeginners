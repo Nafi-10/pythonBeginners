{
  "cells": [
    {
      "cell_type": "markdown",
      "metadata": {
        "id": "view-in-github",
        "colab_type": "text"
      },
      "source": [
        "<a href=\"https://colab.research.google.com/github/Nafi-10/pythonBeginners/blob/main/operators_in_python.ipynb\" target=\"_parent\"><img src=\"https://colab.research.google.com/assets/colab-badge.svg\" alt=\"Open In Colab\"/></a>"
      ]
    },
    {
      "cell_type": "markdown",
      "source": [
        "Operators in Python:\n",
        "\n",
        "1.Arithmetic Operators\n",
        "2.Assignment Operators\n",
        "3.Comparison Operators\n",
        "4.Logical Operators\n",
        "5.Identity Operators\n",
        "6.Membership Operators"
      ],
      "metadata": {
        "id": "9CNYfBwInXbq"
      }
    },
    {
      "cell_type": "code",
      "source": [
        "# Arithmetic Operators\n",
        "a = 10\n",
        "b = 5\n",
        "\n",
        "print(\"a + b =\", a + b)  # Addition\n",
        "print(\"a - b =\", a - b)  # Subtraction\n",
        "print(\"a * b =\", a * b)  # Multiplication\n",
        "print(\"a / b =\", a / b)  # Division\n",
        "print(\"a % b =\", a % b)  # Modulus\n",
        "print(\"a ** b =\", a ** b) # Exponentiation\n",
        "print(\"a // b =\", a // b) # Floor Division"
      ],
      "metadata": {
        "colab": {
          "base_uri": "https://localhost:8080/"
        },
        "id": "Armmd-rFox5_",
        "outputId": "9579ce22-6cf5-4bb7-d0d8-ec590eb7ad38"
      },
      "execution_count": null,
      "outputs": [
        {
          "output_type": "stream",
          "name": "stdout",
          "text": [
            "a + b = 15\n",
            "a - b = 5\n",
            "a * b = 50\n",
            "a / b = 2.0\n",
            "a % b = 0\n",
            "a ** b = 100000\n",
            "a // b = 2\n"
          ]
        }
      ]
    },
    {
      "cell_type": "markdown",
      "source": [
        "Assignment Operators (+=, -=,*=,**=,%=)"
      ],
      "metadata": {
        "id": "EL6Zak0RoK-n"
      }
    },
    {
      "cell_type": "code",
      "source": [
        "a=5\n",
        "print(a)"
      ],
      "metadata": {
        "colab": {
          "base_uri": "https://localhost:8080/"
        },
        "id": "OLR4cyhyoN3w",
        "outputId": "3ce8c329-6694-45c6-ee08-621c94bd0844"
      },
      "execution_count": 1,
      "outputs": [
        {
          "output_type": "stream",
          "name": "stdout",
          "text": [
            "5\n"
          ]
        }
      ]
    },
    {
      "cell_type": "code",
      "source": [
        "b=5\n",
        "b+=3 #We're initializing a variable, increasing it by 3, and then printing the updated value.\n",
        "print(b)"
      ],
      "metadata": {
        "colab": {
          "base_uri": "https://localhost:8080/"
        },
        "id": "Xy9VTtm6ogNn",
        "outputId": "8bb2dd03-30f5-4edc-8ed1-2da8887acaca"
      },
      "execution_count": 2,
      "outputs": [
        {
          "output_type": "stream",
          "name": "stdout",
          "text": [
            "8\n"
          ]
        }
      ]
    },
    {
      "cell_type": "code",
      "source": [
        "c=10\n",
        "c-=3 #We declared a variable c with the value 10, subtracted 3 from it using the -= operator, and printed the result.\n",
        "print(c)"
      ],
      "metadata": {
        "colab": {
          "base_uri": "https://localhost:8080/"
        },
        "id": "M88RLToyo3Cx",
        "outputId": "ed78c02c-45cf-4465-f213-318133a9fe05"
      },
      "execution_count": 3,
      "outputs": [
        {
          "output_type": "stream",
          "name": "stdout",
          "text": [
            "7\n"
          ]
        }
      ]
    },
    {
      "cell_type": "markdown",
      "source": [
        "Comparison Operators"
      ],
      "metadata": {
        "id": "1s8gniXZpxYm"
      }
    },
    {
      "cell_type": "code",
      "source": [
        "a=10\n",
        "b=20\n",
        "print(a==b) #Checks if a is equal to b\n",
        "print(a!=b) #Checks if a is not equal to b\n",
        "print(a>b) #Checks if a is greater than b\n",
        "print(a<b) #Checks if a is less than b\n",
        "print(a>=b) #Checks if a is greater than or equal to b\n",
        "print(a<=b) #Checks if a is less than or equal to b"
      ],
      "metadata": {
        "colab": {
          "base_uri": "https://localhost:8080/"
        },
        "id": "2RvkSL1ap2s9",
        "outputId": "872e406b-2487-44af-a22f-8e6ef67b658c"
      },
      "execution_count": 4,
      "outputs": [
        {
          "output_type": "stream",
          "name": "stdout",
          "text": [
            "False\n",
            "True\n",
            "False\n",
            "True\n",
            "False\n",
            "True\n"
          ]
        }
      ]
    },
    {
      "cell_type": "markdown",
      "source": [
        "Logical Operators ( and ,or , not)"
      ],
      "metadata": {
        "id": "VeA3OsMLq_mn"
      }
    },
    {
      "cell_type": "code",
      "source": [
        "a=10\n",
        "\n",
        "print(a>20 and a>5) #Returns True if both statements are true\n",
        "print(a>20 or a>5) #Returns True if one of the statements is true\n",
        "print(not(a>20 and a>5)) #Reverse the result"
      ],
      "metadata": {
        "colab": {
          "base_uri": "https://localhost:8080/"
        },
        "id": "nxOXMHMkrCCg",
        "outputId": "212a1954-da13-43c3-88fd-aa5a6aa97f22"
      },
      "execution_count": 5,
      "outputs": [
        {
          "output_type": "stream",
          "name": "stdout",
          "text": [
            "False\n",
            "True\n",
            "True\n"
          ]
        }
      ]
    },
    {
      "cell_type": "markdown",
      "source": [
        "Identity Operators (is , is not)"
      ],
      "metadata": {
        "id": "N_BeKKrLrwZM"
      }
    },
    {
      "cell_type": "code",
      "source": [
        "x=5\n",
        "y=5\n",
        "\n",
        "print(x is y) #Returns True if both variables are the same object\n",
        "print(x is not y) #Returns True if both variables are not the same object"
      ],
      "metadata": {
        "colab": {
          "base_uri": "https://localhost:8080/"
        },
        "id": "ZzZyL372r36m",
        "outputId": "e05ab2a3-01d1-47e6-b303-ee7f9b259126"
      },
      "execution_count": 6,
      "outputs": [
        {
          "output_type": "stream",
          "name": "stdout",
          "text": [
            "True\n",
            "False\n"
          ]
        }
      ]
    },
    {
      "cell_type": "markdown",
      "source": [
        "Membership Operators ( in , not in)"
      ],
      "metadata": {
        "id": "VFgGUevUt0Pd"
      }
    },
    {
      "cell_type": "code",
      "source": [
        "a=5\n",
        "b=10\n",
        "\n",
        "c= [1,2,3,4,5]\n",
        "print(a in c) #Returns True if a sequence with the specified value is present in the object\n",
        "print(b not in c) #Returns True if a sequence with the specified value is not present in the object"
      ],
      "metadata": {
        "colab": {
          "base_uri": "https://localhost:8080/"
        },
        "id": "48k9pN6nt2fU",
        "outputId": "4ced687e-a77e-4067-e55d-f4f4a9e42b92"
      },
      "execution_count": 10,
      "outputs": [
        {
          "output_type": "stream",
          "name": "stdout",
          "text": [
            "True\n",
            "True\n"
          ]
        }
      ]
    }
  ],
  "metadata": {
    "colab": {
      "toc_visible": true,
      "provenance": [],
      "include_colab_link": true
    },
    "kernelspec": {
      "display_name": "Python 3",
      "name": "python3"
    }
  },
  "nbformat": 4,
  "nbformat_minor": 0
}